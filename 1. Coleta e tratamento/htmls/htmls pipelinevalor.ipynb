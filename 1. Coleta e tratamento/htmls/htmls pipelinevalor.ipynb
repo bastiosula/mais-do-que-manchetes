{
 "cells": [
  {
   "cell_type": "markdown",
   "id": "ed5b98b5-af0e-422f-8558-17e49100371c",
   "metadata": {},
   "source": [
    "# Módulos"
   ]
  },
  {
   "cell_type": "code",
   "execution_count": null,
   "id": "b5eda021-7930-4328-bf8b-5e47d08c9c4a",
   "metadata": {},
   "outputs": [],
   "source": [
    "from htmls import *\n",
    "portal = 'pipelinevalor'"
   ]
  },
  {
   "cell_type": "markdown",
   "id": "9b97692e-f38a-46b8-8dae-9566c692d949",
   "metadata": {},
   "source": [
    "# Coleta de notícias"
   ]
  },
  {
   "cell_type": "code",
   "execution_count": null,
   "id": "7e4fecb9-7af7-4cae-a3de-bf941412f102",
   "metadata": {},
   "outputs": [],
   "source": [
    "coletar_e_decodificar_HTMLs(portal, 1000, 3)"
   ]
  },
  {
   "cell_type": "markdown",
   "id": "4842d220-1519-4310-9f56-a9c84ef2c5e6",
   "metadata": {},
   "source": [
    "## Verificação"
   ]
  },
  {
   "cell_type": "code",
   "execution_count": null,
   "id": "0d6b933d-b6e7-4b73-8755-c4a3d42cc097",
   "metadata": {
    "scrolled": true
   },
   "outputs": [],
   "source": [
    "conn = sqlite3.connect(f'bases/SQLs/htmls {portal}.db')\n",
    "df = pd.read_sql('SELECT * FROM htmls', conn).map(lambda x: str(x).replace('$', '\\\\$'))\n",
    "del conn\n",
    "df"
   ]
  }
 ],
 "metadata": {
  "kernelspec": {
   "display_name": "Python 3 (ipykernel)",
   "language": "python",
   "name": "python3"
  },
  "language_info": {
   "codemirror_mode": {
    "name": "ipython",
    "version": 3
   },
   "file_extension": ".py",
   "mimetype": "text/x-python",
   "name": "python",
   "nbconvert_exporter": "python",
   "pygments_lexer": "ipython3",
   "version": "3.12.7"
  }
 },
 "nbformat": 4,
 "nbformat_minor": 5
}
