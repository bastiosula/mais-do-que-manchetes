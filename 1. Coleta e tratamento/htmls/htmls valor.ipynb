{
 "cells": [
  {
   "cell_type": "markdown",
   "id": "ed5b98b5-af0e-422f-8558-17e49100371c",
   "metadata": {},
   "source": [
    "# Módulos"
   ]
  },
  {
   "cell_type": "code",
   "execution_count": null,
   "id": "7e01a4b3-189a-47e8-8923-98129a7045bb",
   "metadata": {},
   "outputs": [],
   "source": [
    "from htmls import *\n",
    "portal = 'valor'"
   ]
  },
  {
   "cell_type": "markdown",
   "id": "9b97692e-f38a-46b8-8dae-9566c692d949",
   "metadata": {},
   "source": [
    "# Coleta de notícias"
   ]
  },
  {
   "cell_type": "code",
   "execution_count": null,
   "id": "04dbde6c-0ee0-4314-bb40-de8d83d33fb7",
   "metadata": {},
   "outputs": [],
   "source": [
    "coletar_e_decodificar_HTMLs(portal, 1000, 3)"
   ]
  },
  {
   "cell_type": "markdown",
   "id": "4842d220-1519-4310-9f56-a9c84ef2c5e6",
   "metadata": {},
   "source": [
    "## Verificação"
   ]
  },
  {
   "cell_type": "code",
   "execution_count": null,
   "id": "1bd79a36-2109-43ac-883c-430d4e78d678",
   "metadata": {
    "scrolled": true
   },
   "outputs": [],
   "source": [
    "conn = sqlite3.connect(f'bases/SQLs/htmls {portal}.db')\n",
    "df = pd.read_sql('SELECT * FROM htmls', conn).map(lambda x: str(x).replace('$', '\\\\$'))\n",
    "del conn\n",
    "df"
   ]
  }
 ],
 "metadata": {
  "kernelspec": {
   "display_name": "Python 3 (ipykernel)",
   "language": "python",
   "name": "python3"
  },
  "language_info": {
   "codemirror_mode": {
    "name": "ipython",
    "version": 3
   },
   "file_extension": ".py",
   "mimetype": "text/x-python",
   "name": "python",
   "nbconvert_exporter": "python",
   "pygments_lexer": "ipython3",
   "version": "3.12.7"
  }
 },
 "nbformat": 4,
 "nbformat_minor": 5
}
