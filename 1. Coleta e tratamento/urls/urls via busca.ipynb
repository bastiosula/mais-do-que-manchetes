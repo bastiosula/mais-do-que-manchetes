{
 "cells": [
  {
   "cell_type": "markdown",
   "id": "eccfb165-ba9e-4dc9-9870-f170677956ca",
   "metadata": {},
   "source": [
    "# Módulos"
   ]
  },
  {
   "cell_type": "code",
   "execution_count": 2,
   "id": "77dc4a15-585a-4e8b-bd3b-d5918d4891ca",
   "metadata": {},
   "outputs": [],
   "source": [
    "from urls import * # Funções empregadas\n",
    "import multiprocessing as mp # Paralelização"
   ]
  },
  {
   "cell_type": "markdown",
   "id": "90a99e48-339a-46fb-aeec-36df30c02bc3",
   "metadata": {},
   "source": [
    "# Busca paralelizada"
   ]
  },
  {
   "cell_type": "markdown",
   "id": "9702fece-12ef-452b-8a4e-b5d8f51a473f",
   "metadata": {},
   "source": [
    "Este método dura cerca de uma semana com o computador trablhando a todo tempo."
   ]
  },
  {
   "cell_type": "code",
   "execution_count": null,
   "id": "0f324a65-8593-4d28-a50b-c63aec876fb6",
   "metadata": {},
   "outputs": [],
   "source": [
    "portais = [\n",
    "    \n",
    "    'pipelinevalor',\n",
    "    'umsoplaneta',\n",
    "    'globorural',\n",
    "    'valorinveste',\n",
    "    'revistapegn',\n",
    "    'epocanegocios',\n",
    "    'valor'\n",
    "\n",
    "]\n",
    "\n",
    "with mp.Pool(len(portais)) as pool:\n",
    "    pool.map(mapear_URLs_via_busca, portais)"
   ]
  }
 ],
 "metadata": {
  "kernelspec": {
   "display_name": "Python 3 (ipykernel)",
   "language": "python",
   "name": "python3"
  },
  "language_info": {
   "codemirror_mode": {
    "name": "ipython",
    "version": 3
   },
   "file_extension": ".py",
   "mimetype": "text/x-python",
   "name": "python",
   "nbconvert_exporter": "python",
   "pygments_lexer": "ipython3",
   "version": "3.12.7"
  }
 },
 "nbformat": 4,
 "nbformat_minor": 5
}
