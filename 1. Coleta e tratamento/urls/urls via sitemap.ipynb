{
 "cells": [
  {
   "cell_type": "markdown",
   "id": "2598c26b-59e9-4906-9673-130b2905273c",
   "metadata": {},
   "source": [
    "# Módulos"
   ]
  },
  {
   "cell_type": "code",
   "execution_count": 1,
   "id": "bee55ba1-ddf2-4e71-8642-8c558f3e9823",
   "metadata": {},
   "outputs": [],
   "source": [
    "import pandas as pd # Tabelas\n",
    "\n",
    "# Requests\n",
    "import requests \n",
    "from selenium import webdriver \n",
    "from time import sleep\n",
    "\n",
    "from bs4 import BeautifulSoup as BS # Interpretação de HTMLs\n",
    "from multiprocessing import Pool, cpu_count as CPUs # Paralelização\n",
    "\n",
    "from pathlib import Path # Organização de pastas no seu computador\n",
    "(Path('bases/sitemaps')).mkdir(parents = True, exist_ok = True)\n",
    "import sqlite3 # Arquivamento dinâmico"
   ]
  },
  {
   "cell_type": "markdown",
   "id": "89bb1991-b15e-4578-896a-e3b4f02771c3",
   "metadata": {},
   "source": [
    "# Listagem de sitemaps diários"
   ]
  },
  {
   "cell_type": "code",
   "execution_count": 2,
   "id": "2efe4949-9a24-4720-bf35-66eb81bbc14b",
   "metadata": {},
   "outputs": [],
   "source": [
    "portais = [\n",
    "    \n",
    "    'pipelinevalor',\n",
    "    'umsoplaneta',\n",
    "    'globorural',\n",
    "    'valorinveste',\n",
    "    'revistapegn',\n",
    "    'epocanegocios',\n",
    "    'valor'\n",
    "\n",
    "]\n",
    "\n",
    "sitemaps = []\n",
    "for portal in portais:\n",
    "    subportal = portal if portal != 'revistapegn' else 'pegn'\n",
    "    pergaminho = f'https://{portal}.globo.com/sitemap/{subportal}/sitemap.xml'\n",
    "    content = requests.get(pergaminho).content\n",
    "    soup = BS(content, 'xml')\n",
    "    sitemaps.append(list(map(lambda loc: loc.text, soup.find_all('loc'))))"
   ]
  },
  {
   "cell_type": "markdown",
   "id": "94b0b47f-3e1c-4638-97b5-c5e662b70751",
   "metadata": {},
   "source": [
    "# Leitura dos sitemaps diários"
   ]
  },
  {
   "cell_type": "code",
   "execution_count": null,
   "id": "a1134736-b1f0-4623-8f2e-528afa486186",
   "metadata": {},
   "outputs": [
    {
     "name": "stdout",
     "output_type": "stream",
     "text": [
      "Leitura concluída: pipelinevalor..!\n",
      "Leitura concluída: umsoplaneta..!\n"
     ]
    }
   ],
   "source": [
    "for portal, sitemap in zip(portais, sitemaps):\n",
    "\n",
    "    # Arquivo\n",
    "    conn = sqlite3.connect(f'bases/sitemaps/sitemaps {portal}.db')\n",
    "    cursor = conn.cursor()\n",
    "    \n",
    "    cursor.execute(f\"\"\"\n",
    "    CREATE TABLE IF NOT EXISTS sitemaps (\n",
    "        sitemap, \n",
    "        data_da_busca,\n",
    "        url \n",
    "    );\n",
    "    \"\"\")\n",
    "    conn.commit()\n",
    "\n",
    "    df = pd.read_sql('SELECT * FROM sitemaps', conn)\n",
    "    sitemap = sorted(set(sitemap).difference(set(df.sitemap)), reverse = True)\n",
    "    if len(sitemap) == 0:\n",
    "        print(f'Já lido: {portal}..!')\n",
    "        conn.close()\n",
    "        continue\n",
    "\n",
    "    # Webdriver \n",
    "    if portal == 'valor':\n",
    "        driver = webdriver.Chrome()\n",
    "        responses = []\n",
    "        for url in sitemap:\n",
    "            erros = 0\n",
    "            while erros < 5:\n",
    "                try:\n",
    "                    driver.get(url)\n",
    "                    response = driver.page_source\n",
    "                    break\n",
    "                except:\n",
    "                    print('BOT de castigo por 1min.')\n",
    "                    sleep(60) # De castigo por 1 minuto.\n",
    "                    erros += 1\n",
    "                    if erros > 5:\n",
    "                        raise RuntimeError('Nº de tentativas excedido.')\n",
    "\n",
    "            # Releitura fracionada\n",
    "            soup = BS(response, 'xml')\n",
    "            blocos = soup.find_all('url')\n",
    "            conteúdo = list(map(lambda bloco: [url, \n",
    "                                               bloco.find('lastmod').text, \n",
    "                                               bloco.find('loc').text], blocos))\n",
    "            df = pd.DataFrame(conteúdo, columns = ['sitemap', 'data_da_busca', 'url'])\n",
    "            df.to_sql('sitemaps', conn, if_exists = 'append', index = False)\n",
    "            conn.commit()\n",
    "        driver.close()\n",
    "\n",
    "    # Multirequests\n",
    "    else:\n",
    "        with Pool(CPUs()*3) as pool:\n",
    "            responses = pool.map(requests.get, sitemap)\n",
    "\n",
    "        # Releitura de uma vez só\n",
    "        for url, response in zip(sitemap, responses):\n",
    "            soup = BS(response.content, 'xml')\n",
    "            blocos = soup.find_all('url')\n",
    "            conteúdo = list(map(lambda bloco: [url, \n",
    "                                               bloco.find('lastmod').text,\n",
    "                                               bloco.find('loc').text], blocos))\n",
    "            df = pd.DataFrame(conteúdo, columns = ['sitemap', 'data_da_busca', 'url'])\n",
    "            df.to_sql('sitemaps', conn, if_exists = 'append', index = False)\n",
    "            conn.commit()\n",
    "\n",
    "    print(f'Leitura concluída: {portal}..!')\n",
    "    conn.close()"
   ]
  }
 ],
 "metadata": {
  "kernelspec": {
   "display_name": "Python 3 (ipykernel)",
   "language": "python",
   "name": "python3"
  },
  "language_info": {
   "codemirror_mode": {
    "name": "ipython",
    "version": 3
   },
   "file_extension": ".py",
   "mimetype": "text/x-python",
   "name": "python",
   "nbconvert_exporter": "python",
   "pygments_lexer": "ipython3",
   "version": "3.12.7"
  }
 },
 "nbformat": 4,
 "nbformat_minor": 5
}
